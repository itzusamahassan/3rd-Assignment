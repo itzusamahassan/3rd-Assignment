{
 "cells": [
  {
   "cell_type": "code",
   "execution_count": null,
   "id": "ed5dd6bc",
   "metadata": {},
   "outputs": [],
   "source": [
    "#HELP FUNCTION\n",
    "#Python help() function is used to get the documentation of specified module, class, function, variables etc. This method is generally used with python interpreter console to get details about python objects\n",
    "class Apple:\n",
    "    \n",
    "    def __init__(self, color, flavor):\n",
    "        self.color = color\n",
    "        self.flavor = flavor\n",
    "    def __str__(self):\n",
    "        return \"This apple is {} and its flavor is {}\".format(self.color, self.flavor)\n",
    "# jonagold = Apple('red', 'Sweet')\n",
    "# print(jonagold)\n",
    "help(Apple)"
   ]
  }
 ],
 "metadata": {
  "kernelspec": {
   "display_name": "Python 3 (ipykernel)",
   "language": "python",
   "name": "python3"
  },
  "language_info": {
   "codemirror_mode": {
    "name": "ipython",
    "version": 3
   },
   "file_extension": ".py",
   "mimetype": "text/x-python",
   "name": "python",
   "nbconvert_exporter": "python",
   "pygments_lexer": "ipython3",
   "version": "3.11.4"
  }
 },
 "nbformat": 4,
 "nbformat_minor": 5
}
