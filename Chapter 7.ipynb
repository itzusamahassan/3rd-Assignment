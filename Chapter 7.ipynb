{
 "cells": [
  {
   "cell_type": "code",
   "execution_count": 1,
   "id": "cc6bcac1",
   "metadata": {},
   "outputs": [
    {
     "name": "stdout",
     "output_type": "stream",
     "text": [
      "Roses are red,\n",
      "Violet are Blue,\n",
      "Sir Saqib Zindabad\n"
     ]
    }
   ],
   "source": [
    "#Dot Operator\n",
    "#(dot) operator is used to access class, structure, or union members. The member is specified by a postfix expression, followed by a . (dot) operator, followed by a possibly qualified identifier or a pseudo-destructor name.\n",
    "class Flower:\n",
    "        color= 'unknown'\n",
    "rose = Flower()\n",
    "rose.color='red'\n",
    "\n",
    "violet = Flower()\n",
    "violet.color='Blue'\n",
    "\n",
    "this_pun_is_for_you=\"Sir Saqib Zindabad\"\n",
    "\n",
    "print(\"Roses are {},\".format(rose.color))\n",
    "print(\"Violet are {},\".format(violet.color))\n",
    "print(this_pun_is_for_you)\n"
   ]
  },
  {
   "cell_type": "code",
   "execution_count": 2,
   "id": "4b7af87e",
   "metadata": {},
   "outputs": [
    {
     "name": "stdout",
     "output_type": "stream",
     "text": [
      "Meow! I'm Luna! Meow\n",
      "Meow! I'm Bella! Meow\n"
     ]
    }
   ],
   "source": [
    "class Cat:\n",
    "    name =''\n",
    "    def speak(self):\n",
    "        print(\"Meow! I'm {}! Meow\".format (self.name))\n",
    "myLuna =Cat()\n",
    "myLuna.name = \"Luna\"\n",
    "myLuna.speak()\n",
    "        \n",
    "myBella =Cat()\n",
    "myBella.name = \"Bella\"\n",
    "myBella.speak()"
   ]
  },
  {
   "cell_type": "code",
   "execution_count": null,
   "id": "ebcea3b6",
   "metadata": {},
   "outputs": [],
   "source": []
  }
 ],
 "metadata": {
  "kernelspec": {
   "display_name": "Python 3 (ipykernel)",
   "language": "python",
   "name": "python3"
  },
  "language_info": {
   "codemirror_mode": {
    "name": "ipython",
    "version": 3
   },
   "file_extension": ".py",
   "mimetype": "text/x-python",
   "name": "python",
   "nbconvert_exporter": "python",
   "pygments_lexer": "ipython3",
   "version": "3.11.4"
  }
 },
 "nbformat": 4,
 "nbformat_minor": 5
}
