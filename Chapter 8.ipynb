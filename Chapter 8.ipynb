{
 "cells": [
  {
   "cell_type": "code",
   "execution_count": 1,
   "id": "0e0aa8d3",
   "metadata": {},
   "outputs": [
    {
     "name": "stdout",
     "output_type": "stream",
     "text": [
      "red\n",
      "<__main__.Apple object at 0x00000249FF80CF50>\n"
     ]
    }
   ],
   "source": [
    "#INITIALIZATION OF ATTRIBUTES OF AN OBJECT\n",
    "class Apple:\n",
    "    def __init__(self, color, flavour):\n",
    "        self.color = color\n",
    "        self.flavour = flavour\n",
    "\n",
    "jonagold = Apple(\"red\", \"sweet\")\n",
    "print(jonagold.color)\n",
    "print(jonagold)"
   ]
  },
  {
   "cell_type": "code",
   "execution_count": 2,
   "id": "1ea69413",
   "metadata": {},
   "outputs": [
    {
     "name": "stdout",
     "output_type": "stream",
     "text": [
      "This apple is Red and its flavor is Sweet\n"
     ]
    }
   ],
   "source": [
    "#STRING REPRESENTATION OF AN OBJECT\n",
    "#The python __str__ method returns the object representation in a string format. This method is supposed to return a human-readable format which is used to display some information about the object.\n",
    "class Apple:\n",
    "    def __init__(self, color, flavor):\n",
    "        self.color = color\n",
    "        self.flavor = flavor\n",
    "    def __str__(self):\n",
    "        return \"This apple is {} and its flavor is {}\".format(self.color, self.flavor)\n",
    "jonagold = Apple('Red', 'Sweet')\n",
    "print(jonagold)"
   ]
  },
  {
   "cell_type": "code",
   "execution_count": null,
   "id": "3e19db8d",
   "metadata": {},
   "outputs": [],
   "source": []
  }
 ],
 "metadata": {
  "kernelspec": {
   "display_name": "Python 3 (ipykernel)",
   "language": "python",
   "name": "python3"
  },
  "language_info": {
   "codemirror_mode": {
    "name": "ipython",
    "version": 3
   },
   "file_extension": ".py",
   "mimetype": "text/x-python",
   "name": "python",
   "nbconvert_exporter": "python",
   "pygments_lexer": "ipython3",
   "version": "3.11.4"
  }
 },
 "nbformat": 4,
 "nbformat_minor": 5
}
